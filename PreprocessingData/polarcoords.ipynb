{
 "cells": [
  {
   "cell_type": "code",
   "execution_count": 22,
   "metadata": {},
   "outputs": [],
   "source": [
    "# %matplotlib inline\n",
    "import io_utils \n",
    "\n",
    "import matplotlib.pyplot as plt\n",
    "import matplotlib.dates as mdates\n",
    "import numpy as np\n",
    "import pandas as pd\n",
    "import os"
   ]
  },
  {
   "cell_type": "code",
   "execution_count": 20,
   "metadata": {},
   "outputs": [],
   "source": [
    "def conv2polar(vars):\n",
    "    rho = np.sqrt(vars[0]**2 + vars[1]**2 + vars[2]**2)\n",
    "    theta = np.arctan(vars[1]/vars[0])\n",
    "    phi = np.arccos(vars[2]/rho)\n",
    "    return [rho, theta, phi]"
   ]
  },
  {
   "cell_type": "code",
   "execution_count": 21,
   "metadata": {},
   "outputs": [
    {
     "ename": "ParserError",
     "evalue": "Error tokenizing data. C error: Calling read(nbytes) on source failed. Try engine='python'.",
     "output_type": "error",
     "traceback": [
      "\u001b[0;31m---------------------------------------------------------------------------\u001b[0m",
      "\u001b[0;31mParserError\u001b[0m                               Traceback (most recent call last)",
      "Cell \u001b[0;32mIn[21], line 1\u001b[0m\n\u001b[0;32m----> 1\u001b[0m df \u001b[39m=\u001b[39m pd\u001b[39m.\u001b[39;49mread_csv(\u001b[39m'\u001b[39;49m\u001b[39m2009_2022CompleteMag.csv\u001b[39;49m\u001b[39m'\u001b[39;49m)\n\u001b[1;32m      2\u001b[0m r \u001b[39m=\u001b[39m []\n\u001b[1;32m      3\u001b[0m t \u001b[39m=\u001b[39m []\n",
      "File \u001b[0;32m/opt/anaconda3/envs/name_of_my_env/lib/python3.10/site-packages/pandas/util/_decorators.py:211\u001b[0m, in \u001b[0;36mdeprecate_kwarg.<locals>._deprecate_kwarg.<locals>.wrapper\u001b[0;34m(*args, **kwargs)\u001b[0m\n\u001b[1;32m    209\u001b[0m     \u001b[39melse\u001b[39;00m:\n\u001b[1;32m    210\u001b[0m         kwargs[new_arg_name] \u001b[39m=\u001b[39m new_arg_value\n\u001b[0;32m--> 211\u001b[0m \u001b[39mreturn\u001b[39;00m func(\u001b[39m*\u001b[39;49margs, \u001b[39m*\u001b[39;49m\u001b[39m*\u001b[39;49mkwargs)\n",
      "File \u001b[0;32m/opt/anaconda3/envs/name_of_my_env/lib/python3.10/site-packages/pandas/util/_decorators.py:331\u001b[0m, in \u001b[0;36mdeprecate_nonkeyword_arguments.<locals>.decorate.<locals>.wrapper\u001b[0;34m(*args, **kwargs)\u001b[0m\n\u001b[1;32m    325\u001b[0m \u001b[39mif\u001b[39;00m \u001b[39mlen\u001b[39m(args) \u001b[39m>\u001b[39m num_allow_args:\n\u001b[1;32m    326\u001b[0m     warnings\u001b[39m.\u001b[39mwarn(\n\u001b[1;32m    327\u001b[0m         msg\u001b[39m.\u001b[39mformat(arguments\u001b[39m=\u001b[39m_format_argument_list(allow_args)),\n\u001b[1;32m    328\u001b[0m         \u001b[39mFutureWarning\u001b[39;00m,\n\u001b[1;32m    329\u001b[0m         stacklevel\u001b[39m=\u001b[39mfind_stack_level(),\n\u001b[1;32m    330\u001b[0m     )\n\u001b[0;32m--> 331\u001b[0m \u001b[39mreturn\u001b[39;00m func(\u001b[39m*\u001b[39;49margs, \u001b[39m*\u001b[39;49m\u001b[39m*\u001b[39;49mkwargs)\n",
      "File \u001b[0;32m/opt/anaconda3/envs/name_of_my_env/lib/python3.10/site-packages/pandas/io/parsers/readers.py:950\u001b[0m, in \u001b[0;36mread_csv\u001b[0;34m(filepath_or_buffer, sep, delimiter, header, names, index_col, usecols, squeeze, prefix, mangle_dupe_cols, dtype, engine, converters, true_values, false_values, skipinitialspace, skiprows, skipfooter, nrows, na_values, keep_default_na, na_filter, verbose, skip_blank_lines, parse_dates, infer_datetime_format, keep_date_col, date_parser, dayfirst, cache_dates, iterator, chunksize, compression, thousands, decimal, lineterminator, quotechar, quoting, doublequote, escapechar, comment, encoding, encoding_errors, dialect, error_bad_lines, warn_bad_lines, on_bad_lines, delim_whitespace, low_memory, memory_map, float_precision, storage_options)\u001b[0m\n\u001b[1;32m    935\u001b[0m kwds_defaults \u001b[39m=\u001b[39m _refine_defaults_read(\n\u001b[1;32m    936\u001b[0m     dialect,\n\u001b[1;32m    937\u001b[0m     delimiter,\n\u001b[0;32m   (...)\u001b[0m\n\u001b[1;32m    946\u001b[0m     defaults\u001b[39m=\u001b[39m{\u001b[39m\"\u001b[39m\u001b[39mdelimiter\u001b[39m\u001b[39m\"\u001b[39m: \u001b[39m\"\u001b[39m\u001b[39m,\u001b[39m\u001b[39m\"\u001b[39m},\n\u001b[1;32m    947\u001b[0m )\n\u001b[1;32m    948\u001b[0m kwds\u001b[39m.\u001b[39mupdate(kwds_defaults)\n\u001b[0;32m--> 950\u001b[0m \u001b[39mreturn\u001b[39;00m _read(filepath_or_buffer, kwds)\n",
      "File \u001b[0;32m/opt/anaconda3/envs/name_of_my_env/lib/python3.10/site-packages/pandas/io/parsers/readers.py:611\u001b[0m, in \u001b[0;36m_read\u001b[0;34m(filepath_or_buffer, kwds)\u001b[0m\n\u001b[1;32m    608\u001b[0m     \u001b[39mreturn\u001b[39;00m parser\n\u001b[1;32m    610\u001b[0m \u001b[39mwith\u001b[39;00m parser:\n\u001b[0;32m--> 611\u001b[0m     \u001b[39mreturn\u001b[39;00m parser\u001b[39m.\u001b[39;49mread(nrows)\n",
      "File \u001b[0;32m/opt/anaconda3/envs/name_of_my_env/lib/python3.10/site-packages/pandas/io/parsers/readers.py:1778\u001b[0m, in \u001b[0;36mTextFileReader.read\u001b[0;34m(self, nrows)\u001b[0m\n\u001b[1;32m   1771\u001b[0m nrows \u001b[39m=\u001b[39m validate_integer(\u001b[39m\"\u001b[39m\u001b[39mnrows\u001b[39m\u001b[39m\"\u001b[39m, nrows)\n\u001b[1;32m   1772\u001b[0m \u001b[39mtry\u001b[39;00m:\n\u001b[1;32m   1773\u001b[0m     \u001b[39m# error: \"ParserBase\" has no attribute \"read\"\u001b[39;00m\n\u001b[1;32m   1774\u001b[0m     (\n\u001b[1;32m   1775\u001b[0m         index,\n\u001b[1;32m   1776\u001b[0m         columns,\n\u001b[1;32m   1777\u001b[0m         col_dict,\n\u001b[0;32m-> 1778\u001b[0m     ) \u001b[39m=\u001b[39m \u001b[39mself\u001b[39;49m\u001b[39m.\u001b[39;49m_engine\u001b[39m.\u001b[39;49mread(  \u001b[39m# type: ignore[attr-defined]\u001b[39;49;00m\n\u001b[1;32m   1779\u001b[0m         nrows\n\u001b[1;32m   1780\u001b[0m     )\n\u001b[1;32m   1781\u001b[0m \u001b[39mexcept\u001b[39;00m \u001b[39mException\u001b[39;00m:\n\u001b[1;32m   1782\u001b[0m     \u001b[39mself\u001b[39m\u001b[39m.\u001b[39mclose()\n",
      "File \u001b[0;32m/opt/anaconda3/envs/name_of_my_env/lib/python3.10/site-packages/pandas/io/parsers/c_parser_wrapper.py:230\u001b[0m, in \u001b[0;36mCParserWrapper.read\u001b[0;34m(self, nrows)\u001b[0m\n\u001b[1;32m    228\u001b[0m \u001b[39mtry\u001b[39;00m:\n\u001b[1;32m    229\u001b[0m     \u001b[39mif\u001b[39;00m \u001b[39mself\u001b[39m\u001b[39m.\u001b[39mlow_memory:\n\u001b[0;32m--> 230\u001b[0m         chunks \u001b[39m=\u001b[39m \u001b[39mself\u001b[39;49m\u001b[39m.\u001b[39;49m_reader\u001b[39m.\u001b[39;49mread_low_memory(nrows)\n\u001b[1;32m    231\u001b[0m         \u001b[39m# destructive to chunks\u001b[39;00m\n\u001b[1;32m    232\u001b[0m         data \u001b[39m=\u001b[39m _concatenate_chunks(chunks)\n",
      "File \u001b[0;32m/opt/anaconda3/envs/name_of_my_env/lib/python3.10/site-packages/pandas/_libs/parsers.pyx:808\u001b[0m, in \u001b[0;36mpandas._libs.parsers.TextReader.read_low_memory\u001b[0;34m()\u001b[0m\n",
      "File \u001b[0;32m/opt/anaconda3/envs/name_of_my_env/lib/python3.10/site-packages/pandas/_libs/parsers.pyx:866\u001b[0m, in \u001b[0;36mpandas._libs.parsers.TextReader._read_rows\u001b[0;34m()\u001b[0m\n",
      "File \u001b[0;32m/opt/anaconda3/envs/name_of_my_env/lib/python3.10/site-packages/pandas/_libs/parsers.pyx:852\u001b[0m, in \u001b[0;36mpandas._libs.parsers.TextReader._tokenize_rows\u001b[0;34m()\u001b[0m\n",
      "File \u001b[0;32m/opt/anaconda3/envs/name_of_my_env/lib/python3.10/site-packages/pandas/_libs/parsers.pyx:1973\u001b[0m, in \u001b[0;36mpandas._libs.parsers.raise_parser_error\u001b[0;34m()\u001b[0m\n",
      "\u001b[0;31mParserError\u001b[0m: Error tokenizing data. C error: Calling read(nbytes) on source failed. Try engine='python'."
     ]
    }
   ],
   "source": [
    "df = pd.read_csv('2009_2022CompleteMag.csv')\n",
    "r = []\n",
    "t = []\n",
    "p = []\n",
    "for i in df.index:\n",
    "    v = [df['dbn_nez'][i], df['dbe_nez'][i], df['dbz_nez'][i]]\n",
    "    nv = conv2polar(v)\n",
    "    r.append(nv[0])\n",
    "    t.append(nv[1])\n",
    "    p.append(nv[2])"
   ]
  },
  {
   "cell_type": "code",
   "execution_count": null,
   "metadata": {},
   "outputs": [
    {
     "name": "stdout",
     "output_type": "stream",
     "text": [
      "   ID             Date_UTC  Extent IAGA  GEOLON  GEOLAT  MAGON  MAGLAT    MLT  \\\n",
      "0   0  2009-01-01T00:00:00      60  RES  265.11   74.69  -36.1   82.95  16.37   \n",
      "1   1  2009-01-01T00:01:00      60  RES  265.11   74.69  -36.1   82.95  16.39   \n",
      "2   2  2009-01-01T00:02:00      60  RES  265.11   74.69  -36.1   82.95  16.41   \n",
      "3   3  2009-01-01T00:03:00      60  RES  265.11   74.69  -36.1   82.95  16.43   \n",
      "4   4  2009-01-01T00:04:00      60  RES  265.11   74.69  -36.1   82.95  16.44   \n",
      "\n",
      "   MCOLAT  ...     SZA  dbn_nez  dbe_nez  dbz_nez  dbn_geo  dbe_geo  dbz_geo  \\\n",
      "0    7.05  ...  110.65      5.1    -16.8    -12.4     -4.2    -17.1    -12.4   \n",
      "1    7.05  ...  110.71      5.1    -16.8    -12.4     -4.2    -17.1    -12.4   \n",
      "2    7.05  ...  110.78      6.4    -17.2    -11.4     -3.3    -18.1    -11.4   \n",
      "3    7.05  ...  110.84      5.9    -16.4    -10.4     -3.3    -17.1    -10.4   \n",
      "4    7.05  ...  110.91      6.3    -15.1    -10.4     -2.3    -16.2    -10.4   \n",
      "\n",
      "         rho     theta       phi  \n",
      "0  21.494418 -1.276066  2.185717  \n",
      "1  21.494418 -1.276066  2.185717  \n",
      "2  21.604629 -1.214577  2.126645  \n",
      "3  20.296059 -1.225457  2.108791  \n",
      "4  19.387109 -1.175535  2.137008  \n",
      "\n",
      "[5 rows x 21 columns]\n"
     ]
    }
   ],
   "source": [
    "df['rho'] = r\n",
    "df['theta'] = t\n",
    "df['phi'] = p\n",
    "print(df.head())"
   ]
  },
  {
   "cell_type": "code",
   "execution_count": null,
   "metadata": {},
   "outputs": [],
   "source": [
    "df.to_csv(\"2009_2022CompleteMagPOLAR.csv\")"
   ]
  },
  {
   "cell_type": "code",
   "execution_count": 23,
   "metadata": {},
   "outputs": [
    {
     "data": {
      "text/plain": [
       "[<matplotlib.lines.Line2D at 0x7f95958dd0c0>]"
      ]
     },
     "execution_count": 23,
     "metadata": {},
     "output_type": "execute_result"
    },
    {
     "data": {
      "image/png": "[encoded data removed]",
      "text/plain": [
       "<Figure size 640x480 with 1 Axes>"
      ]
     },
     "metadata": {},
     "output_type": "display_data"
    }
   ],
   "source": [
    "df = pd.read_csv('2009_2022CompleteMagPOLAR.csv')\n",
    "\n",
    "plt.plot(df['rho'])\n",
    "plt.plot(df['theta'])\n",
    "plt.plot(df['phi'])"
   ]
  },
  {
   "cell_type": "code",
   "execution_count": 24,
   "metadata": {},
   "outputs": [
    {
     "data": {
      "text/html": [
       "<div>\n",
       "<style scoped>\n",
       "    .dataframe tbody tr th:only-of-type {\n",
       "        vertical-align: middle;\n",
       "    }\n",
       "\n",
       "    .dataframe tbody tr th {\n",
       "        vertical-align: top;\n",
       "    }\n",
       "\n",
       "    .dataframe thead th {\n",
       "        text-align: right;\n",
       "    }\n",
       "</style>\n",
       "<table border=\"1\" class=\"dataframe\">\n",
       "  <thead>\n",
       "    <tr style=\"text-align: right;\">\n",
       "      <th></th>\n",
       "      <th>Unnamed: 0</th>\n",
       "      <th>ID</th>\n",
       "      <th>Extent</th>\n",
       "      <th>GEOLON</th>\n",
       "      <th>GEOLAT</th>\n",
       "      <th>MAGON</th>\n",
       "      <th>MAGLAT</th>\n",
       "      <th>MLT</th>\n",
       "      <th>MCOLAT</th>\n",
       "      <th>IGRF_DECL</th>\n",
       "      <th>SZA</th>\n",
       "      <th>dbn_nez</th>\n",
       "      <th>dbe_nez</th>\n",
       "      <th>dbz_nez</th>\n",
       "      <th>dbn_geo</th>\n",
       "      <th>dbe_geo</th>\n",
       "      <th>dbz_geo</th>\n",
       "      <th>rho</th>\n",
       "      <th>theta</th>\n",
       "      <th>phi</th>\n",
       "    </tr>\n",
       "  </thead>\n",
       "  <tbody>\n",
       "    <tr>\n",
       "      <th>count</th>\n",
       "      <td>7.888320e+06</td>\n",
       "      <td>7.888320e+06</td>\n",
       "      <td>7888320.0</td>\n",
       "      <td>7.888320e+06</td>\n",
       "      <td>7.888320e+06</td>\n",
       "      <td>7.888320e+06</td>\n",
       "      <td>7.888320e+06</td>\n",
       "      <td>7.888320e+06</td>\n",
       "      <td>7.888320e+06</td>\n",
       "      <td>7.888320e+06</td>\n",
       "      <td>7.888320e+06</td>\n",
       "      <td>7.237756e+06</td>\n",
       "      <td>7.237756e+06</td>\n",
       "      <td>7.237756e+06</td>\n",
       "      <td>7.237756e+06</td>\n",
       "      <td>7.237756e+06</td>\n",
       "      <td>7.237756e+06</td>\n",
       "      <td>7.237756e+06</td>\n",
       "      <td>7.237549e+06</td>\n",
       "      <td>7.237754e+06</td>\n",
       "    </tr>\n",
       "    <tr>\n",
       "      <th>mean</th>\n",
       "      <td>3.944160e+06</td>\n",
       "      <td>2.629438e+05</td>\n",
       "      <td>60.0</td>\n",
       "      <td>2.651100e+02</td>\n",
       "      <td>7.469000e+01</td>\n",
       "      <td>-3.557742e+01</td>\n",
       "      <td>8.293165e+01</td>\n",
       "      <td>1.193883e+01</td>\n",
       "      <td>7.068354e+00</td>\n",
       "      <td>-2.470545e+01</td>\n",
       "      <td>8.962606e+01</td>\n",
       "      <td>5.235627e+00</td>\n",
       "      <td>-6.731439e-01</td>\n",
       "      <td>6.489063e+00</td>\n",
       "      <td>4.454830e+00</td>\n",
       "      <td>-2.823147e+00</td>\n",
       "      <td>6.489063e+00</td>\n",
       "      <td>4.868396e+01</td>\n",
       "      <td>8.811213e-02</td>\n",
       "      <td>1.404079e+00</td>\n",
       "    </tr>\n",
       "    <tr>\n",
       "      <th>std</th>\n",
       "      <td>2.277162e+06</td>\n",
       "      <td>1.518113e+05</td>\n",
       "      <td>0.0</td>\n",
       "      <td>4.465079e-08</td>\n",
       "      <td>3.076679e-09</td>\n",
       "      <td>1.126350e-01</td>\n",
       "      <td>4.779449e-03</td>\n",
       "      <td>6.922598e+00</td>\n",
       "      <td>4.779449e-03</td>\n",
       "      <td>4.074710e+00</td>\n",
       "      <td>1.941321e+01</td>\n",
       "      <td>4.260469e+01</td>\n",
       "      <td>4.124073e+01</td>\n",
       "      <td>4.070852e+01</td>\n",
       "      <td>4.558377e+01</td>\n",
       "      <td>3.792263e+01</td>\n",
       "      <td>4.070852e+01</td>\n",
       "      <td>5.360023e+01</td>\n",
       "      <td>9.071101e-01</td>\n",
       "      <td>6.229032e-01</td>\n",
       "    </tr>\n",
       "    <tr>\n",
       "      <th>min</th>\n",
       "      <td>0.000000e+00</td>\n",
       "      <td>0.000000e+00</td>\n",
       "      <td>60.0</td>\n",
       "      <td>2.651100e+02</td>\n",
       "      <td>7.469000e+01</td>\n",
       "      <td>-3.610000e+01</td>\n",
       "      <td>8.293000e+01</td>\n",
       "      <td>0.000000e+00</td>\n",
       "      <td>7.050000e+00</td>\n",
       "      <td>-3.074000e+01</td>\n",
       "      <td>5.125000e+01</td>\n",
       "      <td>-1.261100e+03</td>\n",
       "      <td>-1.337200e+03</td>\n",
       "      <td>-1.321400e+03</td>\n",
       "      <td>-1.137400e+03</td>\n",
       "      <td>-1.169000e+03</td>\n",
       "      <td>-1.321400e+03</td>\n",
       "      <td>0.000000e+00</td>\n",
       "      <td>-1.570796e+00</td>\n",
       "      <td>0.000000e+00</td>\n",
       "    </tr>\n",
       "    <tr>\n",
       "      <th>25%</th>\n",
       "      <td>1.972080e+06</td>\n",
       "      <td>1.314718e+05</td>\n",
       "      <td>60.0</td>\n",
       "      <td>2.651100e+02</td>\n",
       "      <td>7.469000e+01</td>\n",
       "      <td>-3.554000e+01</td>\n",
       "      <td>8.293000e+01</td>\n",
       "      <td>5.930000e+00</td>\n",
       "      <td>7.070000e+00</td>\n",
       "      <td>-2.833000e+01</td>\n",
       "      <td>7.532000e+01</td>\n",
       "      <td>-7.500000e+00</td>\n",
       "      <td>-1.330000e+01</td>\n",
       "      <td>-4.500000e+00</td>\n",
       "      <td>-9.400000e+00</td>\n",
       "      <td>-1.430000e+01</td>\n",
       "      <td>-4.500000e+00</td>\n",
       "      <td>1.346328e+01</td>\n",
       "      <td>-6.893491e-01</td>\n",
       "      <td>9.573725e-01</td>\n",
       "    </tr>\n",
       "    <tr>\n",
       "      <th>50%</th>\n",
       "      <td>3.944160e+06</td>\n",
       "      <td>2.629435e+05</td>\n",
       "      <td>60.0</td>\n",
       "      <td>2.651100e+02</td>\n",
       "      <td>7.469000e+01</td>\n",
       "      <td>-3.554000e+01</td>\n",
       "      <td>8.293000e+01</td>\n",
       "      <td>1.198000e+01</td>\n",
       "      <td>7.070000e+00</td>\n",
       "      <td>-2.509000e+01</td>\n",
       "      <td>8.943000e+01</td>\n",
       "      <td>2.600000e+00</td>\n",
       "      <td>0.000000e+00</td>\n",
       "      <td>3.400000e+00</td>\n",
       "      <td>2.200000e+00</td>\n",
       "      <td>-1.200000e+00</td>\n",
       "      <td>3.400000e+00</td>\n",
       "      <td>3.083926e+01</td>\n",
       "      <td>1.776813e-01</td>\n",
       "      <td>1.376675e+00</td>\n",
       "    </tr>\n",
       "    <tr>\n",
       "      <th>75%</th>\n",
       "      <td>5.916239e+06</td>\n",
       "      <td>3.944152e+05</td>\n",
       "      <td>60.0</td>\n",
       "      <td>2.651100e+02</td>\n",
       "      <td>7.469000e+01</td>\n",
       "      <td>-3.554000e+01</td>\n",
       "      <td>8.293000e+01</td>\n",
       "      <td>1.791000e+01</td>\n",
       "      <td>7.070000e+00</td>\n",
       "      <td>-2.106000e+01</td>\n",
       "      <td>1.038300e+02</td>\n",
       "      <td>1.780000e+01</td>\n",
       "      <td>1.260000e+01</td>\n",
       "      <td>1.670000e+01</td>\n",
       "      <td>1.790000e+01</td>\n",
       "      <td>9.500000e+00</td>\n",
       "      <td>1.670000e+01</td>\n",
       "      <td>6.431400e+01</td>\n",
       "      <td>8.644411e-01</td>\n",
       "      <td>1.810689e+00</td>\n",
       "    </tr>\n",
       "    <tr>\n",
       "      <th>max</th>\n",
       "      <td>7.888319e+06</td>\n",
       "      <td>5.270390e+05</td>\n",
       "      <td>60.0</td>\n",
       "      <td>2.651100e+02</td>\n",
       "      <td>7.469000e+01</td>\n",
       "      <td>-3.554000e+01</td>\n",
       "      <td>8.295000e+01</td>\n",
       "      <td>2.400000e+01</td>\n",
       "      <td>7.070000e+00</td>\n",
       "      <td>-1.752000e+01</td>\n",
       "      <td>1.287500e+02</td>\n",
       "      <td>1.237400e+03</td>\n",
       "      <td>7.946000e+02</td>\n",
       "      <td>1.016100e+03</td>\n",
       "      <td>1.276300e+03</td>\n",
       "      <td>1.005400e+03</td>\n",
       "      <td>1.016100e+03</td>\n",
       "      <td>1.617604e+03</td>\n",
       "      <td>1.570796e+00</td>\n",
       "      <td>3.141593e+00</td>\n",
       "    </tr>\n",
       "  </tbody>\n",
       "</table>\n",
       "</div>"
      ],
      "text/plain": [
       "         Unnamed: 0            ID     Extent        GEOLON        GEOLAT  \\\n",
       "count  7.888320e+06  7.888320e+06  7888320.0  7.888320e+06  7.888320e+06   \n",
       "mean   3.944160e+06  2.629438e+05       60.0  2.651100e+02  7.469000e+01   \n",
       "std    2.277162e+06  1.518113e+05        0.0  4.465079e-08  3.076679e-09   \n",
       "min    0.000000e+00  0.000000e+00       60.0  2.651100e+02  7.469000e+01   \n",
       "25%    1.972080e+06  1.314718e+05       60.0  2.651100e+02  7.469000e+01   \n",
       "50%    3.944160e+06  2.629435e+05       60.0  2.651100e+02  7.469000e+01   \n",
       "75%    5.916239e+06  3.944152e+05       60.0  2.651100e+02  7.469000e+01   \n",
       "max    7.888319e+06  5.270390e+05       60.0  2.651100e+02  7.469000e+01   \n",
       "\n",
       "              MAGON        MAGLAT           MLT        MCOLAT     IGRF_DECL  \\\n",
       "count  7.888320e+06  7.888320e+06  7.888320e+06  7.888320e+06  7.888320e+06   \n",
       "mean  -3.557742e+01  8.293165e+01  1.193883e+01  7.068354e+00 -2.470545e+01   \n",
       "std    1.126350e-01  4.779449e-03  6.922598e+00  4.779449e-03  4.074710e+00   \n",
       "min   -3.610000e+01  8.293000e+01  0.000000e+00  7.050000e+00 -3.074000e+01   \n",
       "25%   -3.554000e+01  8.293000e+01  5.930000e+00  7.070000e+00 -2.833000e+01   \n",
       "50%   -3.554000e+01  8.293000e+01  1.198000e+01  7.070000e+00 -2.509000e+01   \n",
       "75%   -3.554000e+01  8.293000e+01  1.791000e+01  7.070000e+00 -2.106000e+01   \n",
       "max   -3.554000e+01  8.295000e+01  2.400000e+01  7.070000e+00 -1.752000e+01   \n",
       "\n",
       "                SZA       dbn_nez       dbe_nez       dbz_nez       dbn_geo  \\\n",
       "count  7.888320e+06  7.237756e+06  7.237756e+06  7.237756e+06  7.237756e+06   \n",
       "mean   8.962606e+01  5.235627e+00 -6.731439e-01  6.489063e+00  4.454830e+00   \n",
       "std    1.941321e+01  4.260469e+01  4.124073e+01  4.070852e+01  4.558377e+01   \n",
       "min    5.125000e+01 -1.261100e+03 -1.337200e+03 -1.321400e+03 -1.137400e+03   \n",
       "25%    7.532000e+01 -7.500000e+00 -1.330000e+01 -4.500000e+00 -9.400000e+00   \n",
       "50%    8.943000e+01  2.600000e+00  0.000000e+00  3.400000e+00  2.200000e+00   \n",
       "75%    1.038300e+02  1.780000e+01  1.260000e+01  1.670000e+01  1.790000e+01   \n",
       "max    1.287500e+02  1.237400e+03  7.946000e+02  1.016100e+03  1.276300e+03   \n",
       "\n",
       "            dbe_geo       dbz_geo           rho         theta           phi  \n",
       "count  7.237756e+06  7.237756e+06  7.237756e+06  7.237549e+06  7.237754e+06  \n",
       "mean  -2.823147e+00  6.489063e+00  4.868396e+01  8.811213e-02  1.404079e+00  \n",
       "std    3.792263e+01  4.070852e+01  5.360023e+01  9.071101e-01  6.229032e-01  \n",
       "min   -1.169000e+03 -1.321400e+03  0.000000e+00 -1.570796e+00  0.000000e+00  \n",
       "25%   -1.430000e+01 -4.500000e+00  1.346328e+01 -6.893491e-01  9.573725e-01  \n",
       "50%   -1.200000e+00  3.400000e+00  3.083926e+01  1.776813e-01  1.376675e+00  \n",
       "75%    9.500000e+00  1.670000e+01  6.431400e+01  8.644411e-01  1.810689e+00  \n",
       "max    1.005400e+03  1.016100e+03  1.617604e+03  1.570796e+00  3.141593e+00  "
      ]
     },
     "execution_count": 24,
     "metadata": {},
     "output_type": "execute_result"
    }
   ],
   "source": [
    "df.describe()"
   ]
  },
  {
   "cell_type": "code",
   "execution_count": 25,
   "metadata": {},
   "outputs": [
    {
     "name": "stdout",
     "output_type": "stream",
     "text": [
      "0          21.494418\n",
      "1          21.494418\n",
      "2          21.604629\n",
      "3          20.296059\n",
      "4          19.387109\n",
      "             ...    \n",
      "7888315          NaN\n",
      "7888316          NaN\n",
      "7888317          NaN\n",
      "7888318          NaN\n",
      "7888319          NaN\n",
      "Name: rho, Length: 7888320, dtype: float64\n"
     ]
    }
   ],
   "source": [
    "print(df['rho'])\n",
    "df = df.reset_index()"
   ]
  },
  {
   "cell_type": "code",
   "execution_count": 26,
   "metadata": {},
   "outputs": [
    {
     "name": "stdout",
     "output_type": "stream",
     "text": [
      "[15861.83413988 15861.83418328 15861.83422669 ... 15865.62064625\n",
      " 15865.62068965 15865.62073305]\n",
      "5452\n"
     ]
    }
   ],
   "source": [
    "date = '2013-06-05'\n",
    "df2 = pd.read_csv(date+'.csv')\n",
    "\n",
    "print(mdates.date2num(df2['t']))\n",
    "indicies = df.loc[(mdates.date2num(df['Date_UTC']) >= mdates.date2num(df2['t'])[0]) & (mdates.date2num(df['Date_UTC']) <= mdates.date2num(df2['t'])[-1])]\n",
    "indicies = indicies.reset_index()\n",
    "print(len(indicies))\n",
    "data = {\n",
    "    't':df2['t'],\n",
    "    'ybz':df2['ybz'],\n",
    "    'dbz_rho':indicies['rho'],\n",
    "    'dbz_theta':indicies['theta'],\n",
    "    'dbz_phi':indicies['phi'],\n",
    "    'Vvels_Vest_ns':df2['Vvels_Vest_ns'],\n",
    "    'Vvels_Vest_ew':df2['Vvels_Vest_ew'],\n",
    "}\n",
    "df3 = pd.DataFrame(data)\n",
    "df3.to_csv(date+'FINAL.csv')"
   ]
  },
  {
   "cell_type": "code",
   "execution_count": 27,
   "metadata": {},
   "outputs": [
    {
     "name": "stdout",
     "output_type": "stream",
     "text": [
      "[16324.89702914 16324.89707254 16324.89711594 ... 16328.56296521\n",
      " 16328.56300861 16328.56305201]\n",
      "5279\n"
     ]
    }
   ],
   "source": [
    "date = '2014-09-11'\n",
    "df2 = pd.read_csv(date+'.csv')\n",
    "\n",
    "print(mdates.date2num(df2['t']))\n",
    "indicies = df.loc[(mdates.date2num(df['Date_UTC']) >= mdates.date2num(df2['t'])[0]) & (mdates.date2num(df['Date_UTC']) <= mdates.date2num(df2['t'])[-1])]\n",
    "indicies = indicies.reset_index()\n",
    "print(len(indicies))\n",
    "data = {\n",
    "    't':df2['t'],\n",
    "    'ybz':df2['ybz'],\n",
    "    'dbz_rho':indicies['rho'],\n",
    "    'dbz_theta':indicies['theta'],\n",
    "    'dbz_phi':indicies['phi'],\n",
    "    'Vvels_Vest_ns':df2['Vvels_Vest_ns'],\n",
    "    'Vvels_Vest_ew':df2['Vvels_Vest_ew'],\n",
    "}\n",
    "df3 = pd.DataFrame(data)\n",
    "df3.to_csv(date+'FINAL.csv')"
   ]
  },
  {
   "cell_type": "code",
   "execution_count": 28,
   "metadata": {},
   "outputs": [],
   "source": [
    "# date = '2015-06-08'\n",
    "# df2 = pd.read_csv(date+'.csv')\n",
    "\n",
    "# print(mdates.date2num(df2['t']))\n",
    "# indicies = df.loc[(mdates.date2num(df['Date_UTC']) >= mdates.date2num(df2['t'])[0]) & (mdates.date2num(df['Date_UTC']) <= mdates.date2num(df2['t'])[-1])]\n",
    "# indicies = indicies.reset_index()\n",
    "# print(len(indicies))\n",
    "# data = {\n",
    "#     't':df2['t'],\n",
    "#     'ybz':df2['ybz'],\n",
    "#     'dbz_rho':indicies['rho'],\n",
    "#     'dbz_theta':indicies['theta'],\n",
    "#     'dbz_phi':indicies['phi'],\n",
    "#     'Vvels_Vest_ns':df2['Vvels_Vest_ns'],\n",
    "#     'Vvels_Vest_ew':df2['Vvels_Vest_ew'],\n",
    "# }\n",
    "# df3 = pd.DataFrame(data)\n",
    "# df3.to_csv(date+'FINAL.csv')"
   ]
  },
  {
   "cell_type": "code",
   "execution_count": 29,
   "metadata": {},
   "outputs": [
    {
     "name": "stdout",
     "output_type": "stream",
     "text": [
      "[16608.76211453 16608.76215793 16608.76220133 ... 16611.96660227\n",
      " 16611.96664568 16611.96668908]\n",
      "4615\n"
     ]
    }
   ],
   "source": [
    "date = '2015-06-22'\n",
    "df2 = pd.read_csv(date+'.csv')\n",
    "\n",
    "print(mdates.date2num(df2['t']))\n",
    "indicies = df.loc[(mdates.date2num(df['Date_UTC']) >= mdates.date2num(df2['t'])[0]) & (mdates.date2num(df['Date_UTC']) <= mdates.date2num(df2['t'])[-1])]\n",
    "indicies = indicies.reset_index()\n",
    "print(len(indicies))\n",
    "data = {\n",
    "    't':df2['t'],\n",
    "    'ybz':df2['ybz'],\n",
    "    'dbz_rho':indicies['rho'],\n",
    "    'dbz_theta':indicies['theta'],\n",
    "    'dbz_phi':indicies['phi'],\n",
    "    'Vvels_Vest_ns':df2['Vvels_Vest_ns'],\n",
    "    'Vvels_Vest_ew':df2['Vvels_Vest_ew'],\n",
    "}\n",
    "df3 = pd.DataFrame(data)\n",
    "df3.to_csv(date+'FINAL.csv')"
   ]
  },
  {
   "cell_type": "code",
   "execution_count": 30,
   "metadata": {},
   "outputs": [
    {
     "name": "stdout",
     "output_type": "stream",
     "text": [
      "[16975.00151905 16975.00156246 16975.00160586 ... 16978.99965277\n",
      " 16978.99969617 16978.99973958]\n",
      "5757\n"
     ]
    }
   ],
   "source": [
    "date = '2016-06-23'\n",
    "df2 = pd.read_csv(date+'.csv')\n",
    "\n",
    "print(mdates.date2num(df2['t']))\n",
    "indicies = df.loc[(mdates.date2num(df['Date_UTC']) >= mdates.date2num(df2['t'])[0]) & (mdates.date2num(df['Date_UTC']) <= mdates.date2num(df2['t'])[-1])]\n",
    "indicies = indicies.reset_index()\n",
    "print(len(indicies))\n",
    "data = {\n",
    "    't':df2['t'],\n",
    "    'ybz':df2['ybz'],\n",
    "    'dbz_rho':indicies['rho'],\n",
    "    'dbz_theta':indicies['theta'],\n",
    "    'dbz_phi':indicies['phi'],\n",
    "    'Vvels_Vest_ns':df2['Vvels_Vest_ns'],\n",
    "    'Vvels_Vest_ew':df2['Vvels_Vest_ew'],\n",
    "}\n",
    "df3 = pd.DataFrame(data)\n",
    "df3.to_csv(date+'FINAL.csv')"
   ]
  },
  {
   "cell_type": "code",
   "execution_count": 31,
   "metadata": {},
   "outputs": [
    {
     "name": "stdout",
     "output_type": "stream",
     "text": [
      "[17015.00097584 17015.00102069 17015.00106554 ... 17018.99913859\n",
      " 17018.99918344 17018.99922828]\n",
      "5757\n"
     ]
    }
   ],
   "source": [
    "date = '2016-08-02'\n",
    "df2 = pd.read_csv(date+'.csv')\n",
    "\n",
    "print(mdates.date2num(df2['t']))\n",
    "indicies = df.loc[(mdates.date2num(df['Date_UTC']) >= mdates.date2num(df2['t'])[0]) & (mdates.date2num(df['Date_UTC']) <= mdates.date2num(df2['t'])[-1])]\n",
    "indicies = indicies.reset_index()\n",
    "print(len(indicies))\n",
    "data = {\n",
    "    't':df2['t'],\n",
    "    'ybz':df2['ybz'],\n",
    "    'dbz_rho':indicies['rho'],\n",
    "    'dbz_theta':indicies['theta'],\n",
    "    'dbz_phi':indicies['phi'],\n",
    "    'Vvels_Vest_ns':df2['Vvels_Vest_ns'],\n",
    "    'Vvels_Vest_ew':df2['Vvels_Vest_ew'],\n",
    "}\n",
    "df3 = pd.DataFrame(data)\n",
    "df3.to_csv(date+'FINAL.csv')"
   ]
  },
  {
   "cell_type": "code",
   "execution_count": 32,
   "metadata": {},
   "outputs": [],
   "source": [
    "# date = '2016-08-22'\n",
    "# df2 = pd.read_csv(date+'.csv')\n",
    "\n",
    "# print(mdates.date2num(df2['t']))\n",
    "# indicies = df.loc[(mdates.date2num(df['Date_UTC']) >= mdates.date2num(df2['t'])[0]) & (mdates.date2num(df['Date_UTC']) <= mdates.date2num(df2['t'])[-1])]\n",
    "# indicies = indicies.reset_index()\n",
    "# print(len(indicies))\n",
    "# data = {\n",
    "#     't':df2['t'],\n",
    "#     'ybz':df2['ybz'],\n",
    "#     'dbz_rho':indicies['rho'],\n",
    "#     'dbz_theta':indicies['theta'],\n",
    "#     'dbz_phi':indicies['phi'],\n",
    "#     'Vvels_Vest_ns':df2['Vvels_Vest_ns'],\n",
    "#     'Vvels_Vest_ew':df2['Vvels_Vest_ew'],\n",
    "# }\n",
    "# df3 = pd.DataFrame(data)\n",
    "# df3.to_csv(date+'FINAL.csv')"
   ]
  },
  {
   "cell_type": "code",
   "execution_count": 33,
   "metadata": {},
   "outputs": [
    {
     "name": "stdout",
     "output_type": "stream",
     "text": [
      "[17301.69634713 17301.69639198 17301.69643683 ... 17302.66574956\n",
      " 17302.66579441 17302.66583925]\n",
      "1396\n"
     ]
    }
   ],
   "source": [
    "date = '2017-05-15'\n",
    "df2 = pd.read_csv(date+'.csv')\n",
    "\n",
    "print(mdates.date2num(df2['t']))\n",
    "indicies = df.loc[(mdates.date2num(df['Date_UTC']) >= mdates.date2num(df2['t'])[0]) & (mdates.date2num(df['Date_UTC']) <= mdates.date2num(df2['t'])[-1])]\n",
    "indicies = indicies.reset_index()\n",
    "print(len(indicies))\n",
    "data = {\n",
    "    't':df2['t'],\n",
    "    'ybz':df2['ybz'],\n",
    "    'dbz_rho':indicies['rho'],\n",
    "    'dbz_theta':indicies['theta'],\n",
    "    'dbz_phi':indicies['phi'],\n",
    "    'Vvels_Vest_ns':df2['Vvels_Vest_ns'],\n",
    "    'Vvels_Vest_ew':df2['Vvels_Vest_ew'],\n",
    "}\n",
    "df3 = pd.DataFrame(data)\n",
    "df3.to_csv(date+'FINAL.csv')"
   ]
  }
 ],
 "metadata": {
  "kernelspec": {
   "display_name": "name_of_my_env",
   "language": "python",
   "name": "python3"
  },
  "language_info": {
   "codemirror_mode": {
    "name": "ipython",
    "version": 3
   },
   "file_extension": ".py",
   "mimetype": "text/x-python",
   "name": "python",
   "nbconvert_exporter": "python",
   "pygments_lexer": "ipython3",
   "version": "3.10.9"
  },
  "orig_nbformat": 4
 },
 "nbformat": 4,
 "nbformat_minor": 2
}
